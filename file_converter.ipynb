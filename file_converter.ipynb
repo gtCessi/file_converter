{
  "nbformat": 4,
  "nbformat_minor": 0,
  "metadata": {
    "colab": {
      "name": "file_converter.ipynb",
      "provenance": [],
      "authorship_tag": "ABX9TyPARMTI/PybW0G7pm2HU7RA",
      "include_colab_link": true
    },
    "kernelspec": {
      "name": "python3",
      "display_name": "Python 3"
    },
    "language_info": {
      "name": "python"
    }
  },
  "cells": [
    {
      "cell_type": "markdown",
      "metadata": {
        "id": "view-in-github",
        "colab_type": "text"
      },
      "source": [
        "<a href=\"https://colab.research.google.com/github/gtCessi/file_converter/blob/main/file_converter.ipynb\" target=\"_parent\"><img src=\"https://colab.research.google.com/assets/colab-badge.svg\" alt=\"Open In Colab\"/></a>"
      ]
    },
    {
      "cell_type": "markdown",
      "source": [
        "Conversor e manipulador de arquivos.\n",
        "Adicionar mais tipos de arquivos para converter.\n"
      ],
      "metadata": {
        "id": "QjBnduVfz-qM"
      }
    },
    {
      "cell_type": "markdown",
      "source": [
        "Converter pdf em text e text em pdf"
      ],
      "metadata": {
        "id": "q9EGfI8jHfhQ"
      }
    },
    {
      "cell_type": "code",
      "execution_count": null,
      "metadata": {
        "id": "EdKjs1iQr_9n",
        "colab": {
          "base_uri": "https://localhost:8080/"
        },
        "outputId": "1ae06ce1-cd9d-4bf6-dc8f-2ce166f065a5"
      },
      "outputs": [
        {
          "output_type": "stream",
          "name": "stdout",
          "text": [
            "Looking in indexes: https://pypi.org/simple, https://us-python.pkg.dev/colab-wheels/public/simple/\n",
            "Collecting docx2pdf\n",
            "  Downloading docx2pdf-0.1.8-py3-none-any.whl (6.7 kB)\n",
            "Requirement already satisfied: tqdm>=4.41.0 in /usr/local/lib/python3.7/dist-packages (from docx2pdf) (4.64.0)\n",
            "Requirement already satisfied: importlib_metadata>=1.3.0 in /usr/local/lib/python3.7/dist-packages (from docx2pdf) (4.11.3)\n",
            "Requirement already satisfied: typing-extensions>=3.6.4 in /usr/local/lib/python3.7/dist-packages (from importlib_metadata>=1.3.0->docx2pdf) (4.2.0)\n",
            "Requirement already satisfied: zipp>=0.5 in /usr/local/lib/python3.7/dist-packages (from importlib_metadata>=1.3.0->docx2pdf) (3.8.0)\n",
            "Installing collected packages: docx2pdf\n",
            "Successfully installed docx2pdf-0.1.8\n"
          ]
        }
      ],
      "source": [
        "#!pip install PyPDF2\n",
        "#!pip install pdf2docx\n",
        "#!pip install docx2pdf"
      ]
    },
    {
      "cell_type": "code",
      "source": [
        "from PyPDF2 import PdfFileReader, PdfFileWriter, PdfFileMerger  \n",
        "from pdf2docx import Converter\n",
        "from docx2pdf import convert"
      ],
      "metadata": {
        "id": "wNRBDNEy1OgY"
      },
      "execution_count": null,
      "outputs": []
    },
    {
      "cell_type": "markdown",
      "source": [
        "Comandos para manipular pdf:\n",
        "pdf.getNumPages(), pdf.documentInfo (.title, .author, sendo possivel acessar outras informacoes pelas chaves direto)"
      ],
      "metadata": {
        "id": "cr1p7PIh1aa_"
      }
    },
    {
      "cell_type": "code",
      "source": [
        "path_pdf = input('Escolha o arquivo:') + '.pdf'\n",
        "\n",
        "pdf = PdfFileReader(path_pdf)"
      ],
      "metadata": {
        "colab": {
          "base_uri": "https://localhost:8080/",
          "height": 565
        },
        "id": "ZBMkm96H0XSA",
        "outputId": "0c88f1d0-cf90-4f56-98f5-786c5ee52766"
      },
      "execution_count": null,
      "outputs": [
        {
          "output_type": "error",
          "ename": "KeyboardInterrupt",
          "evalue": "ignored",
          "traceback": [
            "\u001b[0;31m---------------------------------------------------------------------------\u001b[0m",
            "\u001b[0;31mKeyboardInterrupt\u001b[0m                         Traceback (most recent call last)",
            "\u001b[0;32m/usr/local/lib/python3.7/dist-packages/ipykernel/kernelbase.py\u001b[0m in \u001b[0;36m_input_request\u001b[0;34m(self, prompt, ident, parent, password)\u001b[0m\n\u001b[1;32m    728\u001b[0m             \u001b[0;32mtry\u001b[0m\u001b[0;34m:\u001b[0m\u001b[0;34m\u001b[0m\u001b[0;34m\u001b[0m\u001b[0m\n\u001b[0;32m--> 729\u001b[0;31m                 \u001b[0mident\u001b[0m\u001b[0;34m,\u001b[0m \u001b[0mreply\u001b[0m \u001b[0;34m=\u001b[0m \u001b[0mself\u001b[0m\u001b[0;34m.\u001b[0m\u001b[0msession\u001b[0m\u001b[0;34m.\u001b[0m\u001b[0mrecv\u001b[0m\u001b[0;34m(\u001b[0m\u001b[0mself\u001b[0m\u001b[0;34m.\u001b[0m\u001b[0mstdin_socket\u001b[0m\u001b[0;34m,\u001b[0m \u001b[0;36m0\u001b[0m\u001b[0;34m)\u001b[0m\u001b[0;34m\u001b[0m\u001b[0;34m\u001b[0m\u001b[0m\n\u001b[0m\u001b[1;32m    730\u001b[0m             \u001b[0;32mexcept\u001b[0m \u001b[0mException\u001b[0m\u001b[0;34m:\u001b[0m\u001b[0;34m\u001b[0m\u001b[0;34m\u001b[0m\u001b[0m\n",
            "\u001b[0;32m/usr/local/lib/python3.7/dist-packages/jupyter_client/session.py\u001b[0m in \u001b[0;36mrecv\u001b[0;34m(self, socket, mode, content, copy)\u001b[0m\n\u001b[1;32m    802\u001b[0m         \u001b[0;32mtry\u001b[0m\u001b[0;34m:\u001b[0m\u001b[0;34m\u001b[0m\u001b[0;34m\u001b[0m\u001b[0m\n\u001b[0;32m--> 803\u001b[0;31m             \u001b[0mmsg_list\u001b[0m \u001b[0;34m=\u001b[0m \u001b[0msocket\u001b[0m\u001b[0;34m.\u001b[0m\u001b[0mrecv_multipart\u001b[0m\u001b[0;34m(\u001b[0m\u001b[0mmode\u001b[0m\u001b[0;34m,\u001b[0m \u001b[0mcopy\u001b[0m\u001b[0;34m=\u001b[0m\u001b[0mcopy\u001b[0m\u001b[0;34m)\u001b[0m\u001b[0;34m\u001b[0m\u001b[0;34m\u001b[0m\u001b[0m\n\u001b[0m\u001b[1;32m    804\u001b[0m         \u001b[0;32mexcept\u001b[0m \u001b[0mzmq\u001b[0m\u001b[0;34m.\u001b[0m\u001b[0mZMQError\u001b[0m \u001b[0;32mas\u001b[0m \u001b[0me\u001b[0m\u001b[0;34m:\u001b[0m\u001b[0;34m\u001b[0m\u001b[0;34m\u001b[0m\u001b[0m\n",
            "\u001b[0;32m/usr/local/lib/python3.7/dist-packages/zmq/sugar/socket.py\u001b[0m in \u001b[0;36mrecv_multipart\u001b[0;34m(self, flags, copy, track)\u001b[0m\n\u001b[1;32m    723\u001b[0m         \"\"\"\n\u001b[0;32m--> 724\u001b[0;31m         \u001b[0mparts\u001b[0m \u001b[0;34m=\u001b[0m \u001b[0;34m[\u001b[0m\u001b[0mself\u001b[0m\u001b[0;34m.\u001b[0m\u001b[0mrecv\u001b[0m\u001b[0;34m(\u001b[0m\u001b[0mflags\u001b[0m\u001b[0;34m,\u001b[0m \u001b[0mcopy\u001b[0m\u001b[0;34m=\u001b[0m\u001b[0mcopy\u001b[0m\u001b[0;34m,\u001b[0m \u001b[0mtrack\u001b[0m\u001b[0;34m=\u001b[0m\u001b[0mtrack\u001b[0m\u001b[0;34m)\u001b[0m\u001b[0;34m]\u001b[0m\u001b[0;34m\u001b[0m\u001b[0;34m\u001b[0m\u001b[0m\n\u001b[0m\u001b[1;32m    725\u001b[0m         \u001b[0;31m# have first part already, only loop while more to receive\u001b[0m\u001b[0;34m\u001b[0m\u001b[0;34m\u001b[0m\u001b[0;34m\u001b[0m\u001b[0m\n",
            "\u001b[0;32mzmq/backend/cython/socket.pyx\u001b[0m in \u001b[0;36mzmq.backend.cython.socket.Socket.recv\u001b[0;34m()\u001b[0m\n",
            "\u001b[0;32mzmq/backend/cython/socket.pyx\u001b[0m in \u001b[0;36mzmq.backend.cython.socket.Socket.recv\u001b[0;34m()\u001b[0m\n",
            "\u001b[0;32mzmq/backend/cython/socket.pyx\u001b[0m in \u001b[0;36mzmq.backend.cython.socket._recv_copy\u001b[0;34m()\u001b[0m\n",
            "\u001b[0;32m/usr/local/lib/python3.7/dist-packages/zmq/backend/cython/checkrc.pxd\u001b[0m in \u001b[0;36mzmq.backend.cython.checkrc._check_rc\u001b[0;34m()\u001b[0m\n",
            "\u001b[0;31mKeyboardInterrupt\u001b[0m: ",
            "\nDuring handling of the above exception, another exception occurred:\n",
            "\u001b[0;31mKeyboardInterrupt\u001b[0m                         Traceback (most recent call last)",
            "\u001b[0;32m<ipython-input-8-b0abe0332500>\u001b[0m in \u001b[0;36m<module>\u001b[0;34m()\u001b[0m\n\u001b[0;32m----> 1\u001b[0;31m \u001b[0mpath_pdf\u001b[0m \u001b[0;34m=\u001b[0m \u001b[0minput\u001b[0m\u001b[0;34m(\u001b[0m\u001b[0;34m'Escolha o arquivo:'\u001b[0m\u001b[0;34m)\u001b[0m \u001b[0;34m+\u001b[0m \u001b[0;34m'.pdf'\u001b[0m\u001b[0;34m\u001b[0m\u001b[0;34m\u001b[0m\u001b[0m\n\u001b[0m\u001b[1;32m      2\u001b[0m \u001b[0;34m\u001b[0m\u001b[0m\n\u001b[1;32m      3\u001b[0m \u001b[0mpdf\u001b[0m \u001b[0;34m=\u001b[0m \u001b[0mPdfFileReader\u001b[0m\u001b[0;34m(\u001b[0m\u001b[0mpath_pdf\u001b[0m\u001b[0;34m)\u001b[0m\u001b[0;34m\u001b[0m\u001b[0;34m\u001b[0m\u001b[0m\n",
            "\u001b[0;32m/usr/local/lib/python3.7/dist-packages/ipykernel/kernelbase.py\u001b[0m in \u001b[0;36mraw_input\u001b[0;34m(self, prompt)\u001b[0m\n\u001b[1;32m    702\u001b[0m             \u001b[0mself\u001b[0m\u001b[0;34m.\u001b[0m\u001b[0m_parent_ident\u001b[0m\u001b[0;34m,\u001b[0m\u001b[0;34m\u001b[0m\u001b[0;34m\u001b[0m\u001b[0m\n\u001b[1;32m    703\u001b[0m             \u001b[0mself\u001b[0m\u001b[0;34m.\u001b[0m\u001b[0m_parent_header\u001b[0m\u001b[0;34m,\u001b[0m\u001b[0;34m\u001b[0m\u001b[0;34m\u001b[0m\u001b[0m\n\u001b[0;32m--> 704\u001b[0;31m             \u001b[0mpassword\u001b[0m\u001b[0;34m=\u001b[0m\u001b[0;32mFalse\u001b[0m\u001b[0;34m,\u001b[0m\u001b[0;34m\u001b[0m\u001b[0;34m\u001b[0m\u001b[0m\n\u001b[0m\u001b[1;32m    705\u001b[0m         )\n\u001b[1;32m    706\u001b[0m \u001b[0;34m\u001b[0m\u001b[0m\n",
            "\u001b[0;32m/usr/local/lib/python3.7/dist-packages/ipykernel/kernelbase.py\u001b[0m in \u001b[0;36m_input_request\u001b[0;34m(self, prompt, ident, parent, password)\u001b[0m\n\u001b[1;32m    732\u001b[0m             \u001b[0;32mexcept\u001b[0m \u001b[0mKeyboardInterrupt\u001b[0m\u001b[0;34m:\u001b[0m\u001b[0;34m\u001b[0m\u001b[0;34m\u001b[0m\u001b[0m\n\u001b[1;32m    733\u001b[0m                 \u001b[0;31m# re-raise KeyboardInterrupt, to truncate traceback\u001b[0m\u001b[0;34m\u001b[0m\u001b[0;34m\u001b[0m\u001b[0;34m\u001b[0m\u001b[0m\n\u001b[0;32m--> 734\u001b[0;31m                 \u001b[0;32mraise\u001b[0m \u001b[0mKeyboardInterrupt\u001b[0m\u001b[0;34m\u001b[0m\u001b[0;34m\u001b[0m\u001b[0m\n\u001b[0m\u001b[1;32m    735\u001b[0m             \u001b[0;32melse\u001b[0m\u001b[0;34m:\u001b[0m\u001b[0;34m\u001b[0m\u001b[0;34m\u001b[0m\u001b[0m\n\u001b[1;32m    736\u001b[0m                 \u001b[0;32mbreak\u001b[0m\u001b[0;34m\u001b[0m\u001b[0;34m\u001b[0m\u001b[0m\n",
            "\u001b[0;31mKeyboardInterrupt\u001b[0m: "
          ]
        }
      ]
    },
    {
      "cell_type": "code",
      "source": [
        "# trabalhar aqui na conversao\n",
        "\n",
        "page = pdf.pages[4]\n",
        "pdf_writer = PdfFileWriter()\n",
        "\n",
        "\n",
        "with open('arquivo.txt', 'wb') as arquivo:\n",
        "  pass"
      ],
      "metadata": {
        "colab": {
          "base_uri": "https://localhost:8080/",
          "height": 130
        },
        "id": "Qc3Mm-9DFhN8",
        "outputId": "13b486be-a0c2-4dcf-ec26-fbe34422c0be"
      },
      "execution_count": null,
      "outputs": [
        {
          "output_type": "error",
          "ename": "SyntaxError",
          "evalue": "ignored",
          "traceback": [
            "\u001b[0;36m  File \u001b[0;32m\"<ipython-input-44-fe0646daaa5e>\"\u001b[0;36m, line \u001b[0;32m7\u001b[0m\n\u001b[0;31m    with open('arquivo.txt', 'wb') as arquivo:\u001b[0m\n\u001b[0m                                              ^\u001b[0m\n\u001b[0;31mSyntaxError\u001b[0m\u001b[0;31m:\u001b[0m unexpected EOF while parsing\n"
          ]
        }
      ]
    },
    {
      "cell_type": "code",
      "source": [
        "pdf.documentInfo  # dicionario"
      ],
      "metadata": {
        "colab": {
          "base_uri": "https://localhost:8080/"
        },
        "id": "EzIjFuDQ7mBJ",
        "outputId": "ba19733a-43c9-43d1-d947-b4d0188b784e"
      },
      "execution_count": null,
      "outputs": [
        {
          "output_type": "execute_result",
          "data": {
            "text/plain": [
              "{'/Author': 'George Orwell',\n",
              " '/CreationDate': \"D:20080206192638+11'00'\",\n",
              " '/Creator': 'Adobe InDesign CS2 (4.0)',\n",
              " '/ModDate': \"D:20080706190729+10'00'\",\n",
              " '/Producer': 'Adobe PDF Library 7.0',\n",
              " '/Subject': 'Download classic literature as completely free eBooks from Planet eBook. ',\n",
              " '/Title': '1984',\n",
              " '/Trapped': '/False'}"
            ]
          },
          "metadata": {},
          "execution_count": 18
        }
      ]
    },
    {
      "cell_type": "code",
      "source": [
        "# Corrigindo visualizacao das data e hora do arquivo:\n",
        "from datetime import datetime\n",
        "\n",
        "metadata_date_time = pdf.documentInfo['/CreationDate']\n",
        "string_date_time = metadata_date_time[2: -7]  # cortando a string para extair os dados certos(ano mes dia hora minuto segundo)\n",
        "date_time = datetime.strptime(string_date_time, '%Y%m%d%H%M%S')\n",
        "br_format = '%d/%m/%Y %H:%M:%S'\n",
        "br_date_time = date_time.strftime(br_format)\n",
        "\n",
        "br_date_time"
      ],
      "metadata": {
        "colab": {
          "base_uri": "https://localhost:8080/",
          "height": 35
        },
        "id": "SLleFXYG2XVe",
        "outputId": "23bafc83-e483-42e8-e575-1e33245176db"
      },
      "execution_count": null,
      "outputs": [
        {
          "output_type": "execute_result",
          "data": {
            "text/plain": [
              "'06/02/2008 19:26:38'"
            ],
            "application/vnd.google.colaboratory.intrinsic+json": {
              "type": "string"
            }
          },
          "metadata": {},
          "execution_count": 19
        }
      ]
    },
    {
      "cell_type": "code",
      "source": [
        "# Juntando pdfs:\n",
        "pdf_merger = PdfFileMerger()\n",
        "\n",
        "pdfs = []  # inserir pdfs\n",
        "\n",
        "while True:  \n",
        "  insert_pdf = input('Insira o nome do PDF:  0 para cancelar ') + '.pdf'\n",
        "  if insert_pdf == '0.pdf':\n",
        "    break\n",
        "  pdfs.append(insert_pdf)\n",
        "  \n",
        "print(pdfs)\n",
        "for pdf in pdfs:\n",
        "  pdf_merger.append(pdf)\n",
        "\n",
        "mpdf_name = str(input('Digite o nome do novo PDF:')) + '.pdf'\n",
        "\n",
        "with open(mpdf_name, 'wb') as merged_pdf:\n",
        "  pdf_merger.write(merged_pdf) \n"
      ],
      "metadata": {
        "colab": {
          "base_uri": "https://localhost:8080/"
        },
        "id": "0tNIPRY8-Rzn",
        "outputId": "f66596f2-2439-49c2-8439-97934b395c66"
      },
      "execution_count": null,
      "outputs": [
        {
          "output_type": "stream",
          "name": "stdout",
          "text": [
            "Insira o nome do PDF:  0 para cancelar 1984\n",
            "Insira o nome do PDF:  0 para cancelar dracula\n",
            "Insira o nome do PDF:  0 para cancelar 0\n",
            "['1984.pdf', 'dracula.pdf']\n"
          ]
        },
        {
          "output_type": "stream",
          "name": "stderr",
          "text": [
            "PdfReadWarning: Xref table not zero-indexed. ID numbers for objects will be corrected. [_reader.py:1067]\n"
          ]
        },
        {
          "name": "stdout",
          "output_type": "stream",
          "text": [
            "Digite o nome do novo PDF:somados\n"
          ]
        }
      ]
    },
    {
      "cell_type": "code",
      "source": [
        "def pdf2docx_convert(pdf_file):\n",
        "  docx_file = pdf_file[: -3] + 'docx'\n",
        "\n",
        "  cv = Converter(pdf_file)\n",
        "  cv.convert(docx_file)\n",
        "  cv.close()"
      ],
      "metadata": {
        "id": "6o92WrO5EFso"
      },
      "execution_count": null,
      "outputs": []
    },
    {
      "cell_type": "code",
      "source": [
        "def docx2pdf_convert(docx_file):\n",
        "  #pdf_file = docx_file[:-3] + 'pdf'\n",
        "\n",
        "  convert(docx_file, pdf_file)"
      ],
      "metadata": {
        "id": "zpJAjb1Jhufa"
      },
      "execution_count": null,
      "outputs": []
    },
    {
      "cell_type": "code",
      "source": [
        "pdf2docx_convert('extratofevereirojuliane.pdf')"
      ],
      "metadata": {
        "colab": {
          "base_uri": "https://localhost:8080/"
        },
        "id": "yVgcxt1cUES-",
        "outputId": "feb3f977-a35f-49f6-f911-7fecc90bb193"
      },
      "execution_count": null,
      "outputs": [
        {
          "output_type": "stream",
          "name": "stderr",
          "text": [
            "[INFO] Start to convert extratofevereirojuliane.pdf\n",
            "[INFO] \u001b[1;36m[1/4] Opening document...\u001b[0m\n",
            "[INFO] \u001b[1;36m[2/4] Analyzing document...\u001b[0m\n",
            "[INFO] \u001b[1;36m[3/4] Parsing pages...\u001b[0m\n",
            "[INFO] (1/1) Page 1\n",
            "[INFO] \u001b[1;36m[4/4] Creating pages...\u001b[0m\n",
            "[INFO] (1/1) Page 1\n",
            "[INFO] Terminated in 0.74s.\n"
          ]
        }
      ]
    },
    {
      "cell_type": "code",
      "source": [
        "docx2pdf_convert('extratofevereirojuliane.docx')"
      ],
      "metadata": {
        "colab": {
          "base_uri": "https://localhost:8080/",
          "height": 325
        },
        "id": "RNIQm0KberAU",
        "outputId": "874ae756-3ada-4ad2-a74c-d8f7771d9615"
      },
      "execution_count": null,
      "outputs": [
        {
          "output_type": "error",
          "ename": "NotImplementedError",
          "evalue": "ignored",
          "traceback": [
            "\u001b[0;31m---------------------------------------------------------------------------\u001b[0m",
            "\u001b[0;31mNotImplementedError\u001b[0m                       Traceback (most recent call last)",
            "\u001b[0;32m<ipython-input-62-8d2e7a1e50bb>\u001b[0m in \u001b[0;36m<module>\u001b[0;34m()\u001b[0m\n\u001b[0;32m----> 1\u001b[0;31m \u001b[0mdocx2pdf_convert\u001b[0m\u001b[0;34m(\u001b[0m\u001b[0;34m'extratofevereirojuliane.docx'\u001b[0m\u001b[0;34m)\u001b[0m\u001b[0;34m\u001b[0m\u001b[0;34m\u001b[0m\u001b[0m\n\u001b[0m",
            "\u001b[0;32m<ipython-input-61-cf11deed5732>\u001b[0m in \u001b[0;36mdocx2pdf_convert\u001b[0;34m(docx_file)\u001b[0m\n\u001b[1;32m      2\u001b[0m   \u001b[0;31m#pdf_file = docx_file[:-3] + 'pdf'\u001b[0m\u001b[0;34m\u001b[0m\u001b[0;34m\u001b[0m\u001b[0;34m\u001b[0m\u001b[0m\n\u001b[1;32m      3\u001b[0m \u001b[0;34m\u001b[0m\u001b[0m\n\u001b[0;32m----> 4\u001b[0;31m   \u001b[0mconvert\u001b[0m\u001b[0;34m(\u001b[0m\u001b[0mdocx_file\u001b[0m\u001b[0;34m,\u001b[0m \u001b[0mpdf_file\u001b[0m\u001b[0;34m)\u001b[0m\u001b[0;34m\u001b[0m\u001b[0;34m\u001b[0m\u001b[0m\n\u001b[0m",
            "\u001b[0;32m/usr/local/lib/python3.7/dist-packages/docx2pdf/__init__.py\u001b[0m in \u001b[0;36mconvert\u001b[0;34m(input_path, output_path, keep_active)\u001b[0m\n\u001b[1;32m    107\u001b[0m     \u001b[0;32melse\u001b[0m\u001b[0;34m:\u001b[0m\u001b[0;34m\u001b[0m\u001b[0;34m\u001b[0m\u001b[0m\n\u001b[1;32m    108\u001b[0m         raise NotImplementedError(\n\u001b[0;32m--> 109\u001b[0;31m             \u001b[0;34m\"docx2pdf is not implemented for linux as it requires Microsoft Word to be installed\"\u001b[0m\u001b[0;34m\u001b[0m\u001b[0;34m\u001b[0m\u001b[0m\n\u001b[0m\u001b[1;32m    110\u001b[0m         )\n\u001b[1;32m    111\u001b[0m \u001b[0;34m\u001b[0m\u001b[0m\n",
            "\u001b[0;31mNotImplementedError\u001b[0m: docx2pdf is not implemented for linux as it requires Microsoft Word to be installed"
          ]
        }
      ]
    }
  ]
}